{
  "cells": [
    {
      "cell_type": "markdown",
      "metadata": {
        "id": "0aStgWSO0E0E"
      },
      "source": [
        "# **Data Collection and Cleaning Notebook**"
      ]
    },
    {
      "cell_type": "markdown",
      "metadata": {
        "id": "1eLEkw5O0ECa"
      },
      "source": [
        "## Objectives\n",
        "\n",
        "To load the Melbourne wastewater dataset and perform basic inspection and cleaning of the data\n",
        "\n",
        "## Inputs\n",
        "\n",
        "Kaggle JSON file - authentication token\n",
        "\n",
        "## Outputs\n",
        "\n",
        "Generate Dataset: outputs/datasets/collection/data-melborne_F_fixed.csv\n",
        "\n"
      ]
    },
    {
      "cell_type": "markdown",
      "metadata": {
        "id": "9uWZXH9LwoQg"
      },
      "source": [
        "---"
      ]
    },
    {
      "cell_type": "markdown",
      "metadata": {
        "id": "cqP-UeN-z3i2"
      },
      "source": [
        "# Change working directory"
      ]
    },
    {
      "cell_type": "markdown",
      "metadata": {},
      "source": [
        "* We are assuming you will store the notebooks in a subfolder, therefore when running the notebook in the editor, you will need to change the working directory"
      ]
    },
    {
      "cell_type": "markdown",
      "metadata": {
        "id": "aOGIGS-uz3i2"
      },
      "source": [
        "We need to change the working directory from its current folder to its parent folder\n",
        "* We access the current directory with os.getcwd()"
      ]
    },
    {
      "cell_type": "code",
      "execution_count": 41,
      "metadata": {
        "id": "wZfF_j-Bz3i4",
        "outputId": "66943449-1436-4c3d-85c7-b85f9f78349b"
      },
      "outputs": [
        {
          "data": {
            "text/plain": [
              "'/'"
            ]
          },
          "execution_count": 41,
          "metadata": {},
          "output_type": "execute_result"
        }
      ],
      "source": [
        "import os\n",
        "current_dir = os.getcwd()\n",
        "current_dir"
      ]
    },
    {
      "cell_type": "markdown",
      "metadata": {
        "id": "9MWW8E7lz3i7"
      },
      "source": [
        "We want to make the parent of the current directory the new current directory\n",
        "* os.path.dirname() gets the parent directory\n",
        "* os.chir() defines the new current directory"
      ]
    },
    {
      "cell_type": "code",
      "execution_count": 42,
      "metadata": {
        "id": "TwHsQRWjz3i9",
        "outputId": "86849db3-cd2f-4cc5-ebb8-2d0caafa1a2c"
      },
      "outputs": [
        {
          "name": "stdout",
          "output_type": "stream",
          "text": [
            "You set a new current directory\n"
          ]
        }
      ],
      "source": [
        "os.chdir(os.path.dirname(current_dir))\n",
        "print(\"You set a new current directory\")"
      ]
    },
    {
      "cell_type": "markdown",
      "metadata": {
        "id": "M_xPk_Ijz3i-"
      },
      "source": [
        "Confirm the new current directory"
      ]
    },
    {
      "cell_type": "code",
      "execution_count": 43,
      "metadata": {
        "id": "vz3S-_kjz3jA",
        "outputId": "00b79ae4-75d0-4a96-d193-ac9ef9847ea2"
      },
      "outputs": [
        {
          "data": {
            "text/plain": [
              "'/'"
            ]
          },
          "execution_count": 43,
          "metadata": {},
          "output_type": "execute_result"
        }
      ],
      "source": [
        "current_dir = os.getcwd()\n",
        "current_dir"
      ]
    },
    {
      "cell_type": "markdown",
      "metadata": {
        "id": "-mavJ8DibrcQ"
      },
      "source": [
        "# Fetch data from kaggle"
      ]
    },
    {
      "cell_type": "markdown",
      "metadata": {},
      "source": [
        "We need to install Kaggle and download the dataset I will be using."
      ]
    },
    {
      "cell_type": "code",
      "execution_count": 44,
      "metadata": {},
      "outputs": [
        {
          "name": "stdout",
          "output_type": "stream",
          "text": [
            "Requirement already satisfied: kaggle in /home/cistudent/.local/lib/python3.12/site-packages (1.7.4.5)\n",
            "Requirement already satisfied: bleach in /home/cistudent/.pyenv/versions/3.12.1/lib/python3.12/site-packages (from kaggle) (6.2.0)\n",
            "Requirement already satisfied: certifi>=14.05.14 in /home/cistudent/.pyenv/versions/3.12.1/lib/python3.12/site-packages (from kaggle) (2024.12.14)\n",
            "Requirement already satisfied: charset-normalizer in /home/cistudent/.pyenv/versions/3.12.1/lib/python3.12/site-packages (from kaggle) (3.4.0)\n",
            "Requirement already satisfied: idna in /home/cistudent/.pyenv/versions/3.12.1/lib/python3.12/site-packages (from kaggle) (3.10)\n",
            "Requirement already satisfied: protobuf in /home/cistudent/.local/lib/python3.12/site-packages (from kaggle) (3.20.3)\n",
            "Requirement already satisfied: python-dateutil>=2.5.3 in /home/cistudent/.pyenv/versions/3.12.1/lib/python3.12/site-packages (from kaggle) (2.9.0.post0)\n",
            "Requirement already satisfied: python-slugify in /home/cistudent/.local/lib/python3.12/site-packages (from kaggle) (8.0.4)\n",
            "Requirement already satisfied: requests in /home/cistudent/.pyenv/versions/3.12.1/lib/python3.12/site-packages (from kaggle) (2.32.3)\n",
            "Requirement already satisfied: setuptools>=21.0.0 in /home/cistudent/.pyenv/versions/3.12.1/lib/python3.12/site-packages (from kaggle) (75.6.0)\n",
            "Requirement already satisfied: six>=1.10 in /home/cistudent/.pyenv/versions/3.12.1/lib/python3.12/site-packages (from kaggle) (1.17.0)\n",
            "Requirement already satisfied: text-unidecode in /home/cistudent/.local/lib/python3.12/site-packages (from kaggle) (1.3)\n",
            "Requirement already satisfied: tqdm in /home/cistudent/.local/lib/python3.12/site-packages (from kaggle) (4.67.1)\n",
            "Requirement already satisfied: urllib3>=1.15.1 in /home/cistudent/.pyenv/versions/3.12.1/lib/python3.12/site-packages (from kaggle) (2.2.3)\n",
            "Requirement already satisfied: webencodings in /home/cistudent/.pyenv/versions/3.12.1/lib/python3.12/site-packages (from kaggle) (0.5.1)\n",
            "\n",
            "\u001b[1m[\u001b[0m\u001b[34;49mnotice\u001b[0m\u001b[1;39;49m]\u001b[0m\u001b[39;49m A new release of pip is available: \u001b[0m\u001b[31;49m24.3.1\u001b[0m\u001b[39;49m -> \u001b[0m\u001b[32;49m25.1.1\u001b[0m\n",
            "\u001b[1m[\u001b[0m\u001b[34;49mnotice\u001b[0m\u001b[1;39;49m]\u001b[0m\u001b[39;49m To update, run: \u001b[0m\u001b[32;49mpip install --upgrade pip\u001b[0m\n"
          ]
        }
      ],
      "source": [
        "! pip install kaggle"
      ]
    },
    {
      "cell_type": "markdown",
      "metadata": {},
      "source": [
        "We need to drag the kaggle.json file previously created into the session.\n",
        "Once the file has been dragged into the location, the below needs to be run so that the token is recognised in the session."
      ]
    },
    {
      "cell_type": "code",
      "execution_count": 49,
      "metadata": {},
      "outputs": [
        {
          "name": "stdout",
          "output_type": "stream",
          "text": [
            "chmod: cannot access 'kaggle.json': No such file or directory\n"
          ]
        }
      ],
      "source": [
        "import os\n",
        "os.environ['KAGGLE_CONFIG_DIR'] = os.getcwd()\n",
        "! chmod 600 kaggle.json"
      ]
    },
    {
      "cell_type": "markdown",
      "metadata": {},
      "source": [
        "Get the dataset path from the Kaggle url\n",
        "\n",
        "Define the Kaggle dataset, and destination folder and download it."
      ]
    },
    {
      "cell_type": "code",
      "execution_count": 46,
      "metadata": {},
      "outputs": [
        {
          "name": "stdout",
          "output_type": "stream",
          "text": [
            "Traceback (most recent call last):\n",
            "  File \"/home/cistudent/.local/bin/kaggle\", line 8, in <module>\n",
            "    sys.exit(main())\n",
            "             ^^^^^^\n",
            "  File \"/home/cistudent/.local/lib/python3.12/site-packages/kaggle/cli.py\", line 68, in main\n",
            "    out = args.func(**command_args)\n",
            "          ^^^^^^^^^^^^^^^^^^^^^^^^^\n",
            "  File \"/home/cistudent/.local/lib/python3.12/site-packages/kaggle/api/kaggle_api_extended.py\", line 1741, in dataset_download_cli\n",
            "    with self.build_kaggle_client() as kaggle:\n",
            "         ^^^^^^^^^^^^^^^^^^^^^^^^^^\n",
            "  File \"/home/cistudent/.local/lib/python3.12/site-packages/kaggle/api/kaggle_api_extended.py\", line 688, in build_kaggle_client\n",
            "    username=self.config_values['username'],\n",
            "             ~~~~~~~~~~~~~~~~~~^^^^^^^^^^^^\n",
            "KeyError: 'username'\n"
          ]
        }
      ],
      "source": [
        "KaggleDatasetPath = \"d4rklucif3r/full-scale-waste-water-treatment-plant-data\"\n",
        "DestinationFolder = \"inputs/datasets/raw\"   \n",
        "! kaggle datasets download -d {KaggleDatasetPath} -p {DestinationFolder}"
      ]
    },
    {
      "cell_type": "markdown",
      "metadata": {},
      "source": [
        "Now we need to unzip the downloaded file, delte the zip file and delete the kaggle.json file"
      ]
    },
    {
      "cell_type": "code",
      "execution_count": 47,
      "metadata": {},
      "outputs": [
        {
          "name": "stdout",
          "output_type": "stream",
          "text": [
            "unzip:  cannot find or open inputs/datasets/raw/*.zip, inputs/datasets/raw/*.zip.zip or inputs/datasets/raw/*.zip.ZIP.\n",
            "\n",
            "No zipfiles found.\n"
          ]
        }
      ],
      "source": [
        "! unzip {DestinationFolder}/*.zip -d {DestinationFolder} \\\n",
        "  && rm {DestinationFolder}/*.zip \\\n",
        "  && rm kaggle.json"
      ]
    },
    {
      "cell_type": "markdown",
      "metadata": {},
      "source": [
        "## Load and Inspect Kaggle dataset"
      ]
    },
    {
      "cell_type": "code",
      "execution_count": 1,
      "metadata": {},
      "outputs": [
        {
          "ename": "FileNotFoundError",
          "evalue": "[Errno 2] No such file or directory: 'inputs/datasets/raw/Data-Melbourne_F_fixed.csv'",
          "output_type": "error",
          "traceback": [
            "\u001b[0;31m---------------------------------------------------------------------------\u001b[0m",
            "\u001b[0;31mFileNotFoundError\u001b[0m                         Traceback (most recent call last)",
            "Cell \u001b[0;32mIn[1], line 2\u001b[0m\n\u001b[1;32m      1\u001b[0m \u001b[38;5;28;01mimport\u001b[39;00m \u001b[38;5;21;01mpandas\u001b[39;00m \u001b[38;5;28;01mas\u001b[39;00m \u001b[38;5;21;01mpd\u001b[39;00m\n\u001b[0;32m----> 2\u001b[0m df \u001b[38;5;241m=\u001b[39m \u001b[43mpd\u001b[49m\u001b[38;5;241;43m.\u001b[39;49m\u001b[43mread_csv\u001b[49m\u001b[43m(\u001b[49m\u001b[38;5;124;43mf\u001b[39;49m\u001b[38;5;124;43m\"\u001b[39;49m\u001b[38;5;124;43minputs/datasets/raw/Data-Melbourne_F_fixed.csv\u001b[39;49m\u001b[38;5;124;43m\"\u001b[39;49m\u001b[43m)\u001b[49m\n\u001b[1;32m      3\u001b[0m df\u001b[38;5;241m.\u001b[39mhead()\n",
            "File \u001b[0;32m~/.local/lib/python3.12/site-packages/pandas/io/parsers/readers.py:1026\u001b[0m, in \u001b[0;36mread_csv\u001b[0;34m(filepath_or_buffer, sep, delimiter, header, names, index_col, usecols, dtype, engine, converters, true_values, false_values, skipinitialspace, skiprows, skipfooter, nrows, na_values, keep_default_na, na_filter, verbose, skip_blank_lines, parse_dates, infer_datetime_format, keep_date_col, date_parser, date_format, dayfirst, cache_dates, iterator, chunksize, compression, thousands, decimal, lineterminator, quotechar, quoting, doublequote, escapechar, comment, encoding, encoding_errors, dialect, on_bad_lines, delim_whitespace, low_memory, memory_map, float_precision, storage_options, dtype_backend)\u001b[0m\n\u001b[1;32m   1013\u001b[0m kwds_defaults \u001b[38;5;241m=\u001b[39m _refine_defaults_read(\n\u001b[1;32m   1014\u001b[0m     dialect,\n\u001b[1;32m   1015\u001b[0m     delimiter,\n\u001b[0;32m   (...)\u001b[0m\n\u001b[1;32m   1022\u001b[0m     dtype_backend\u001b[38;5;241m=\u001b[39mdtype_backend,\n\u001b[1;32m   1023\u001b[0m )\n\u001b[1;32m   1024\u001b[0m kwds\u001b[38;5;241m.\u001b[39mupdate(kwds_defaults)\n\u001b[0;32m-> 1026\u001b[0m \u001b[38;5;28;01mreturn\u001b[39;00m \u001b[43m_read\u001b[49m\u001b[43m(\u001b[49m\u001b[43mfilepath_or_buffer\u001b[49m\u001b[43m,\u001b[49m\u001b[43m \u001b[49m\u001b[43mkwds\u001b[49m\u001b[43m)\u001b[49m\n",
            "File \u001b[0;32m~/.local/lib/python3.12/site-packages/pandas/io/parsers/readers.py:620\u001b[0m, in \u001b[0;36m_read\u001b[0;34m(filepath_or_buffer, kwds)\u001b[0m\n\u001b[1;32m    617\u001b[0m _validate_names(kwds\u001b[38;5;241m.\u001b[39mget(\u001b[38;5;124m\"\u001b[39m\u001b[38;5;124mnames\u001b[39m\u001b[38;5;124m\"\u001b[39m, \u001b[38;5;28;01mNone\u001b[39;00m))\n\u001b[1;32m    619\u001b[0m \u001b[38;5;66;03m# Create the parser.\u001b[39;00m\n\u001b[0;32m--> 620\u001b[0m parser \u001b[38;5;241m=\u001b[39m \u001b[43mTextFileReader\u001b[49m\u001b[43m(\u001b[49m\u001b[43mfilepath_or_buffer\u001b[49m\u001b[43m,\u001b[49m\u001b[43m \u001b[49m\u001b[38;5;241;43m*\u001b[39;49m\u001b[38;5;241;43m*\u001b[39;49m\u001b[43mkwds\u001b[49m\u001b[43m)\u001b[49m\n\u001b[1;32m    622\u001b[0m \u001b[38;5;28;01mif\u001b[39;00m chunksize \u001b[38;5;129;01mor\u001b[39;00m iterator:\n\u001b[1;32m    623\u001b[0m     \u001b[38;5;28;01mreturn\u001b[39;00m parser\n",
            "File \u001b[0;32m~/.local/lib/python3.12/site-packages/pandas/io/parsers/readers.py:1620\u001b[0m, in \u001b[0;36mTextFileReader.__init__\u001b[0;34m(self, f, engine, **kwds)\u001b[0m\n\u001b[1;32m   1617\u001b[0m     \u001b[38;5;28mself\u001b[39m\u001b[38;5;241m.\u001b[39moptions[\u001b[38;5;124m\"\u001b[39m\u001b[38;5;124mhas_index_names\u001b[39m\u001b[38;5;124m\"\u001b[39m] \u001b[38;5;241m=\u001b[39m kwds[\u001b[38;5;124m\"\u001b[39m\u001b[38;5;124mhas_index_names\u001b[39m\u001b[38;5;124m\"\u001b[39m]\n\u001b[1;32m   1619\u001b[0m \u001b[38;5;28mself\u001b[39m\u001b[38;5;241m.\u001b[39mhandles: IOHandles \u001b[38;5;241m|\u001b[39m \u001b[38;5;28;01mNone\u001b[39;00m \u001b[38;5;241m=\u001b[39m \u001b[38;5;28;01mNone\u001b[39;00m\n\u001b[0;32m-> 1620\u001b[0m \u001b[38;5;28mself\u001b[39m\u001b[38;5;241m.\u001b[39m_engine \u001b[38;5;241m=\u001b[39m \u001b[38;5;28;43mself\u001b[39;49m\u001b[38;5;241;43m.\u001b[39;49m\u001b[43m_make_engine\u001b[49m\u001b[43m(\u001b[49m\u001b[43mf\u001b[49m\u001b[43m,\u001b[49m\u001b[43m \u001b[49m\u001b[38;5;28;43mself\u001b[39;49m\u001b[38;5;241;43m.\u001b[39;49m\u001b[43mengine\u001b[49m\u001b[43m)\u001b[49m\n",
            "File \u001b[0;32m~/.local/lib/python3.12/site-packages/pandas/io/parsers/readers.py:1880\u001b[0m, in \u001b[0;36mTextFileReader._make_engine\u001b[0;34m(self, f, engine)\u001b[0m\n\u001b[1;32m   1878\u001b[0m     \u001b[38;5;28;01mif\u001b[39;00m \u001b[38;5;124m\"\u001b[39m\u001b[38;5;124mb\u001b[39m\u001b[38;5;124m\"\u001b[39m \u001b[38;5;129;01mnot\u001b[39;00m \u001b[38;5;129;01min\u001b[39;00m mode:\n\u001b[1;32m   1879\u001b[0m         mode \u001b[38;5;241m+\u001b[39m\u001b[38;5;241m=\u001b[39m \u001b[38;5;124m\"\u001b[39m\u001b[38;5;124mb\u001b[39m\u001b[38;5;124m\"\u001b[39m\n\u001b[0;32m-> 1880\u001b[0m \u001b[38;5;28mself\u001b[39m\u001b[38;5;241m.\u001b[39mhandles \u001b[38;5;241m=\u001b[39m \u001b[43mget_handle\u001b[49m\u001b[43m(\u001b[49m\n\u001b[1;32m   1881\u001b[0m \u001b[43m    \u001b[49m\u001b[43mf\u001b[49m\u001b[43m,\u001b[49m\n\u001b[1;32m   1882\u001b[0m \u001b[43m    \u001b[49m\u001b[43mmode\u001b[49m\u001b[43m,\u001b[49m\n\u001b[1;32m   1883\u001b[0m \u001b[43m    \u001b[49m\u001b[43mencoding\u001b[49m\u001b[38;5;241;43m=\u001b[39;49m\u001b[38;5;28;43mself\u001b[39;49m\u001b[38;5;241;43m.\u001b[39;49m\u001b[43moptions\u001b[49m\u001b[38;5;241;43m.\u001b[39;49m\u001b[43mget\u001b[49m\u001b[43m(\u001b[49m\u001b[38;5;124;43m\"\u001b[39;49m\u001b[38;5;124;43mencoding\u001b[39;49m\u001b[38;5;124;43m\"\u001b[39;49m\u001b[43m,\u001b[49m\u001b[43m \u001b[49m\u001b[38;5;28;43;01mNone\u001b[39;49;00m\u001b[43m)\u001b[49m\u001b[43m,\u001b[49m\n\u001b[1;32m   1884\u001b[0m \u001b[43m    \u001b[49m\u001b[43mcompression\u001b[49m\u001b[38;5;241;43m=\u001b[39;49m\u001b[38;5;28;43mself\u001b[39;49m\u001b[38;5;241;43m.\u001b[39;49m\u001b[43moptions\u001b[49m\u001b[38;5;241;43m.\u001b[39;49m\u001b[43mget\u001b[49m\u001b[43m(\u001b[49m\u001b[38;5;124;43m\"\u001b[39;49m\u001b[38;5;124;43mcompression\u001b[39;49m\u001b[38;5;124;43m\"\u001b[39;49m\u001b[43m,\u001b[49m\u001b[43m \u001b[49m\u001b[38;5;28;43;01mNone\u001b[39;49;00m\u001b[43m)\u001b[49m\u001b[43m,\u001b[49m\n\u001b[1;32m   1885\u001b[0m \u001b[43m    \u001b[49m\u001b[43mmemory_map\u001b[49m\u001b[38;5;241;43m=\u001b[39;49m\u001b[38;5;28;43mself\u001b[39;49m\u001b[38;5;241;43m.\u001b[39;49m\u001b[43moptions\u001b[49m\u001b[38;5;241;43m.\u001b[39;49m\u001b[43mget\u001b[49m\u001b[43m(\u001b[49m\u001b[38;5;124;43m\"\u001b[39;49m\u001b[38;5;124;43mmemory_map\u001b[39;49m\u001b[38;5;124;43m\"\u001b[39;49m\u001b[43m,\u001b[49m\u001b[43m \u001b[49m\u001b[38;5;28;43;01mFalse\u001b[39;49;00m\u001b[43m)\u001b[49m\u001b[43m,\u001b[49m\n\u001b[1;32m   1886\u001b[0m \u001b[43m    \u001b[49m\u001b[43mis_text\u001b[49m\u001b[38;5;241;43m=\u001b[39;49m\u001b[43mis_text\u001b[49m\u001b[43m,\u001b[49m\n\u001b[1;32m   1887\u001b[0m \u001b[43m    \u001b[49m\u001b[43merrors\u001b[49m\u001b[38;5;241;43m=\u001b[39;49m\u001b[38;5;28;43mself\u001b[39;49m\u001b[38;5;241;43m.\u001b[39;49m\u001b[43moptions\u001b[49m\u001b[38;5;241;43m.\u001b[39;49m\u001b[43mget\u001b[49m\u001b[43m(\u001b[49m\u001b[38;5;124;43m\"\u001b[39;49m\u001b[38;5;124;43mencoding_errors\u001b[39;49m\u001b[38;5;124;43m\"\u001b[39;49m\u001b[43m,\u001b[49m\u001b[43m \u001b[49m\u001b[38;5;124;43m\"\u001b[39;49m\u001b[38;5;124;43mstrict\u001b[39;49m\u001b[38;5;124;43m\"\u001b[39;49m\u001b[43m)\u001b[49m\u001b[43m,\u001b[49m\n\u001b[1;32m   1888\u001b[0m \u001b[43m    \u001b[49m\u001b[43mstorage_options\u001b[49m\u001b[38;5;241;43m=\u001b[39;49m\u001b[38;5;28;43mself\u001b[39;49m\u001b[38;5;241;43m.\u001b[39;49m\u001b[43moptions\u001b[49m\u001b[38;5;241;43m.\u001b[39;49m\u001b[43mget\u001b[49m\u001b[43m(\u001b[49m\u001b[38;5;124;43m\"\u001b[39;49m\u001b[38;5;124;43mstorage_options\u001b[39;49m\u001b[38;5;124;43m\"\u001b[39;49m\u001b[43m,\u001b[49m\u001b[43m \u001b[49m\u001b[38;5;28;43;01mNone\u001b[39;49;00m\u001b[43m)\u001b[49m\u001b[43m,\u001b[49m\n\u001b[1;32m   1889\u001b[0m \u001b[43m\u001b[49m\u001b[43m)\u001b[49m\n\u001b[1;32m   1890\u001b[0m \u001b[38;5;28;01massert\u001b[39;00m \u001b[38;5;28mself\u001b[39m\u001b[38;5;241m.\u001b[39mhandles \u001b[38;5;129;01mis\u001b[39;00m \u001b[38;5;129;01mnot\u001b[39;00m \u001b[38;5;28;01mNone\u001b[39;00m\n\u001b[1;32m   1891\u001b[0m f \u001b[38;5;241m=\u001b[39m \u001b[38;5;28mself\u001b[39m\u001b[38;5;241m.\u001b[39mhandles\u001b[38;5;241m.\u001b[39mhandle\n",
            "File \u001b[0;32m~/.local/lib/python3.12/site-packages/pandas/io/common.py:873\u001b[0m, in \u001b[0;36mget_handle\u001b[0;34m(path_or_buf, mode, encoding, compression, memory_map, is_text, errors, storage_options)\u001b[0m\n\u001b[1;32m    868\u001b[0m \u001b[38;5;28;01melif\u001b[39;00m \u001b[38;5;28misinstance\u001b[39m(handle, \u001b[38;5;28mstr\u001b[39m):\n\u001b[1;32m    869\u001b[0m     \u001b[38;5;66;03m# Check whether the filename is to be opened in binary mode.\u001b[39;00m\n\u001b[1;32m    870\u001b[0m     \u001b[38;5;66;03m# Binary mode does not support 'encoding' and 'newline'.\u001b[39;00m\n\u001b[1;32m    871\u001b[0m     \u001b[38;5;28;01mif\u001b[39;00m ioargs\u001b[38;5;241m.\u001b[39mencoding \u001b[38;5;129;01mand\u001b[39;00m \u001b[38;5;124m\"\u001b[39m\u001b[38;5;124mb\u001b[39m\u001b[38;5;124m\"\u001b[39m \u001b[38;5;129;01mnot\u001b[39;00m \u001b[38;5;129;01min\u001b[39;00m ioargs\u001b[38;5;241m.\u001b[39mmode:\n\u001b[1;32m    872\u001b[0m         \u001b[38;5;66;03m# Encoding\u001b[39;00m\n\u001b[0;32m--> 873\u001b[0m         handle \u001b[38;5;241m=\u001b[39m \u001b[38;5;28;43mopen\u001b[39;49m\u001b[43m(\u001b[49m\n\u001b[1;32m    874\u001b[0m \u001b[43m            \u001b[49m\u001b[43mhandle\u001b[49m\u001b[43m,\u001b[49m\n\u001b[1;32m    875\u001b[0m \u001b[43m            \u001b[49m\u001b[43mioargs\u001b[49m\u001b[38;5;241;43m.\u001b[39;49m\u001b[43mmode\u001b[49m\u001b[43m,\u001b[49m\n\u001b[1;32m    876\u001b[0m \u001b[43m            \u001b[49m\u001b[43mencoding\u001b[49m\u001b[38;5;241;43m=\u001b[39;49m\u001b[43mioargs\u001b[49m\u001b[38;5;241;43m.\u001b[39;49m\u001b[43mencoding\u001b[49m\u001b[43m,\u001b[49m\n\u001b[1;32m    877\u001b[0m \u001b[43m            \u001b[49m\u001b[43merrors\u001b[49m\u001b[38;5;241;43m=\u001b[39;49m\u001b[43merrors\u001b[49m\u001b[43m,\u001b[49m\n\u001b[1;32m    878\u001b[0m \u001b[43m            \u001b[49m\u001b[43mnewline\u001b[49m\u001b[38;5;241;43m=\u001b[39;49m\u001b[38;5;124;43m\"\u001b[39;49m\u001b[38;5;124;43m\"\u001b[39;49m\u001b[43m,\u001b[49m\n\u001b[1;32m    879\u001b[0m \u001b[43m        \u001b[49m\u001b[43m)\u001b[49m\n\u001b[1;32m    880\u001b[0m     \u001b[38;5;28;01melse\u001b[39;00m:\n\u001b[1;32m    881\u001b[0m         \u001b[38;5;66;03m# Binary mode\u001b[39;00m\n\u001b[1;32m    882\u001b[0m         handle \u001b[38;5;241m=\u001b[39m \u001b[38;5;28mopen\u001b[39m(handle, ioargs\u001b[38;5;241m.\u001b[39mmode)\n",
            "\u001b[0;31mFileNotFoundError\u001b[0m: [Errno 2] No such file or directory: 'inputs/datasets/raw/Data-Melbourne_F_fixed.csv'"
          ]
        }
      ],
      "source": [
        "import pandas as pd\n",
        "df = pd.read_csv(f\"inputs/datasets/raw/Data-Melbourne_F_fixed.csv\")\n",
        "df.head()"
      ]
    },
    {
      "cell_type": "markdown",
      "metadata": {},
      "source": [
        "DataFrame Summary"
      ]
    },
    {
      "cell_type": "code",
      "execution_count": null,
      "metadata": {},
      "outputs": [
        {
          "name": "stdout",
          "output_type": "stream",
          "text": [
            "<class 'pandas.core.frame.DataFrame'>\n",
            "RangeIndex: 1382 entries, 0 to 1381\n",
            "Data columns (total 20 columns):\n",
            " #   Column                    Non-Null Count  Dtype  \n",
            "---  ------                    --------------  -----  \n",
            " 0   Unnamed: 0                1382 non-null   int64  \n",
            " 1   Average Outflow           1382 non-null   float64\n",
            " 2   Average Inflow            1382 non-null   float64\n",
            " 3   Energy Consumption        1382 non-null   float64\n",
            " 4   Ammonia                   1382 non-null   float64\n",
            " 5   Biological Oxygen Demand  1382 non-null   float64\n",
            " 6   Chemical Oxygen Demand    1382 non-null   float64\n",
            " 7   Total Nitrogen            1382 non-null   float64\n",
            " 8   Average Temperature       1382 non-null   float64\n",
            " 9   Maximum temperature       1382 non-null   float64\n",
            " 10  Minimum temperature       1382 non-null   float64\n",
            " 11  Atmospheric pressure      1382 non-null   float64\n",
            " 12  Average humidity          1382 non-null   float64\n",
            " 13  Total rainfall            1382 non-null   float64\n",
            " 14  Average visibility        1382 non-null   float64\n",
            " 15  Average wind speed        1382 non-null   float64\n",
            " 16  Maximum wind speed        1382 non-null   float64\n",
            " 17  Year                      1382 non-null   float64\n",
            " 18  Month                     1382 non-null   float64\n",
            " 19  Day                       1382 non-null   float64\n",
            "dtypes: float64(19), int64(1)\n",
            "memory usage: 216.1 KB\n"
          ]
        }
      ],
      "source": [
        "df.info()"
      ]
    },
    {
      "cell_type": "markdown",
      "metadata": {},
      "source": [
        "Look at the last 5 rows, the tail of the dataframe."
      ]
    },
    {
      "cell_type": "code",
      "execution_count": null,
      "metadata": {},
      "outputs": [
        {
          "data": {
            "text/html": [
              "<div>\n",
              "<style scoped>\n",
              "    .dataframe tbody tr th:only-of-type {\n",
              "        vertical-align: middle;\n",
              "    }\n",
              "\n",
              "    .dataframe tbody tr th {\n",
              "        vertical-align: top;\n",
              "    }\n",
              "\n",
              "    .dataframe thead th {\n",
              "        text-align: right;\n",
              "    }\n",
              "</style>\n",
              "<table border=\"1\" class=\"dataframe\">\n",
              "  <thead>\n",
              "    <tr style=\"text-align: right;\">\n",
              "      <th></th>\n",
              "      <th>Unnamed: 0</th>\n",
              "      <th>Average Outflow</th>\n",
              "      <th>Average Inflow</th>\n",
              "      <th>Energy Consumption</th>\n",
              "      <th>Ammonia</th>\n",
              "      <th>Biological Oxygen Demand</th>\n",
              "      <th>Chemical Oxygen Demand</th>\n",
              "      <th>Total Nitrogen</th>\n",
              "      <th>Average Temperature</th>\n",
              "      <th>Maximum temperature</th>\n",
              "      <th>Minimum temperature</th>\n",
              "      <th>Atmospheric pressure</th>\n",
              "      <th>Average humidity</th>\n",
              "      <th>Total rainfall</th>\n",
              "      <th>Average visibility</th>\n",
              "      <th>Average wind speed</th>\n",
              "      <th>Maximum wind speed</th>\n",
              "      <th>Year</th>\n",
              "      <th>Month</th>\n",
              "      <th>Day</th>\n",
              "    </tr>\n",
              "  </thead>\n",
              "  <tbody>\n",
              "    <tr>\n",
              "      <th>1377</th>\n",
              "      <td>1377</td>\n",
              "      <td>5.068</td>\n",
              "      <td>4.716</td>\n",
              "      <td>305938.0</td>\n",
              "      <td>28.0</td>\n",
              "      <td>310.0</td>\n",
              "      <td>660.0</td>\n",
              "      <td>58.807</td>\n",
              "      <td>6.8</td>\n",
              "      <td>10.0</td>\n",
              "      <td>4.0</td>\n",
              "      <td>0.0</td>\n",
              "      <td>56.0</td>\n",
              "      <td>0.0</td>\n",
              "      <td>10.0</td>\n",
              "      <td>14.4</td>\n",
              "      <td>22.2</td>\n",
              "      <td>2019.0</td>\n",
              "      <td>6.0</td>\n",
              "      <td>20.0</td>\n",
              "    </tr>\n",
              "    <tr>\n",
              "      <th>1378</th>\n",
              "      <td>1378</td>\n",
              "      <td>5.882</td>\n",
              "      <td>5.510</td>\n",
              "      <td>293446.0</td>\n",
              "      <td>40.0</td>\n",
              "      <td>250.0</td>\n",
              "      <td>700.0</td>\n",
              "      <td>60.671</td>\n",
              "      <td>7.6</td>\n",
              "      <td>16.0</td>\n",
              "      <td>3.0</td>\n",
              "      <td>0.0</td>\n",
              "      <td>71.0</td>\n",
              "      <td>0.0</td>\n",
              "      <td>0.0</td>\n",
              "      <td>13.5</td>\n",
              "      <td>25.9</td>\n",
              "      <td>2019.0</td>\n",
              "      <td>6.0</td>\n",
              "      <td>24.0</td>\n",
              "    </tr>\n",
              "    <tr>\n",
              "      <th>1379</th>\n",
              "      <td>1379</td>\n",
              "      <td>4.638</td>\n",
              "      <td>4.811</td>\n",
              "      <td>307968.0</td>\n",
              "      <td>47.0</td>\n",
              "      <td>260.0</td>\n",
              "      <td>860.0</td>\n",
              "      <td>64.000</td>\n",
              "      <td>9.7</td>\n",
              "      <td>16.0</td>\n",
              "      <td>3.0</td>\n",
              "      <td>0.0</td>\n",
              "      <td>65.0</td>\n",
              "      <td>0.0</td>\n",
              "      <td>10.0</td>\n",
              "      <td>18.1</td>\n",
              "      <td>25.9</td>\n",
              "      <td>2019.0</td>\n",
              "      <td>6.0</td>\n",
              "      <td>25.0</td>\n",
              "    </tr>\n",
              "    <tr>\n",
              "      <th>1380</th>\n",
              "      <td>1380</td>\n",
              "      <td>5.373</td>\n",
              "      <td>4.929</td>\n",
              "      <td>316675.0</td>\n",
              "      <td>46.0</td>\n",
              "      <td>300.0</td>\n",
              "      <td>900.0</td>\n",
              "      <td>62.479</td>\n",
              "      <td>10.9</td>\n",
              "      <td>17.0</td>\n",
              "      <td>5.0</td>\n",
              "      <td>0.0</td>\n",
              "      <td>65.0</td>\n",
              "      <td>0.0</td>\n",
              "      <td>10.0</td>\n",
              "      <td>21.9</td>\n",
              "      <td>35.2</td>\n",
              "      <td>2019.0</td>\n",
              "      <td>6.0</td>\n",
              "      <td>26.0</td>\n",
              "    </tr>\n",
              "    <tr>\n",
              "      <th>1381</th>\n",
              "      <td>1381</td>\n",
              "      <td>4.072</td>\n",
              "      <td>5.194</td>\n",
              "      <td>318268.0</td>\n",
              "      <td>31.0</td>\n",
              "      <td>270.0</td>\n",
              "      <td>910.0</td>\n",
              "      <td>63.312</td>\n",
              "      <td>12.4</td>\n",
              "      <td>16.0</td>\n",
              "      <td>10.0</td>\n",
              "      <td>0.0</td>\n",
              "      <td>63.0</td>\n",
              "      <td>0.0</td>\n",
              "      <td>10.0</td>\n",
              "      <td>28.0</td>\n",
              "      <td>44.6</td>\n",
              "      <td>2019.0</td>\n",
              "      <td>6.0</td>\n",
              "      <td>27.0</td>\n",
              "    </tr>\n",
              "  </tbody>\n",
              "</table>\n",
              "</div>"
            ],
            "text/plain": [
              "      Unnamed: 0  Average Outflow  Average Inflow  Energy Consumption  \\\n",
              "1377        1377            5.068           4.716            305938.0   \n",
              "1378        1378            5.882           5.510            293446.0   \n",
              "1379        1379            4.638           4.811            307968.0   \n",
              "1380        1380            5.373           4.929            316675.0   \n",
              "1381        1381            4.072           5.194            318268.0   \n",
              "\n",
              "      Ammonia  Biological Oxygen Demand  Chemical Oxygen Demand  \\\n",
              "1377     28.0                     310.0                   660.0   \n",
              "1378     40.0                     250.0                   700.0   \n",
              "1379     47.0                     260.0                   860.0   \n",
              "1380     46.0                     300.0                   900.0   \n",
              "1381     31.0                     270.0                   910.0   \n",
              "\n",
              "      Total Nitrogen  Average Temperature  Maximum temperature  \\\n",
              "1377          58.807                  6.8                 10.0   \n",
              "1378          60.671                  7.6                 16.0   \n",
              "1379          64.000                  9.7                 16.0   \n",
              "1380          62.479                 10.9                 17.0   \n",
              "1381          63.312                 12.4                 16.0   \n",
              "\n",
              "      Minimum temperature  Atmospheric pressure  Average humidity  \\\n",
              "1377                  4.0                   0.0              56.0   \n",
              "1378                  3.0                   0.0              71.0   \n",
              "1379                  3.0                   0.0              65.0   \n",
              "1380                  5.0                   0.0              65.0   \n",
              "1381                 10.0                   0.0              63.0   \n",
              "\n",
              "      Total rainfall  Average visibility  Average wind speed  \\\n",
              "1377             0.0                10.0                14.4   \n",
              "1378             0.0                 0.0                13.5   \n",
              "1379             0.0                10.0                18.1   \n",
              "1380             0.0                10.0                21.9   \n",
              "1381             0.0                10.0                28.0   \n",
              "\n",
              "      Maximum wind speed    Year  Month   Day  \n",
              "1377                22.2  2019.0    6.0  20.0  \n",
              "1378                25.9  2019.0    6.0  24.0  \n",
              "1379                25.9  2019.0    6.0  25.0  \n",
              "1380                35.2  2019.0    6.0  26.0  \n",
              "1381                44.6  2019.0    6.0  27.0  "
            ]
          },
          "execution_count": 11,
          "metadata": {},
          "output_type": "execute_result"
        }
      ],
      "source": [
        "df.tail()"
      ]
    },
    {
      "cell_type": "markdown",
      "metadata": {},
      "source": [
        "Look at the shape of the dataframe."
      ]
    },
    {
      "cell_type": "code",
      "execution_count": null,
      "metadata": {},
      "outputs": [
        {
          "data": {
            "text/plain": [
              "(1382, 20)"
            ]
          },
          "execution_count": 12,
          "metadata": {},
          "output_type": "execute_result"
        }
      ],
      "source": [
        "df.shape"
      ]
    },
    {
      "cell_type": "markdown",
      "metadata": {},
      "source": [
        "Look at the columns in the dataframe."
      ]
    },
    {
      "cell_type": "code",
      "execution_count": null,
      "metadata": {},
      "outputs": [
        {
          "data": {
            "text/plain": [
              "Index(['Unnamed: 0', 'Average Outflow', 'Average Inflow', 'Energy Consumption',\n",
              "       'Ammonia', 'Biological Oxygen Demand', 'Chemical Oxygen Demand',\n",
              "       'Total Nitrogen', 'Average Temperature', 'Maximum temperature',\n",
              "       'Minimum temperature', 'Atmospheric pressure', 'Average humidity',\n",
              "       'Total rainfall', 'Average visibility', 'Average wind speed',\n",
              "       'Maximum wind speed', 'Year', 'Month', 'Day'],\n",
              "      dtype='object')"
            ]
          },
          "execution_count": 13,
          "metadata": {},
          "output_type": "execute_result"
        }
      ],
      "source": [
        "df.columns"
      ]
    },
    {
      "cell_type": "markdown",
      "metadata": {},
      "source": [
        "Look at the summary statistics."
      ]
    },
    {
      "cell_type": "code",
      "execution_count": null,
      "metadata": {},
      "outputs": [
        {
          "data": {
            "text/plain": [
              "<bound method NDFrame.describe of       Unnamed: 0  Average Outflow  Average Inflow  Energy Consumption  \\\n",
              "0              0            2.941           2.589            175856.0   \n",
              "1              1            2.936           2.961            181624.0   \n",
              "2              2            2.928           3.225            202016.0   \n",
              "3              3            2.928           3.354            207547.0   \n",
              "4              4            2.917           3.794            202824.0   \n",
              "...          ...              ...             ...                 ...   \n",
              "1377        1377            5.068           4.716            305938.0   \n",
              "1378        1378            5.882           5.510            293446.0   \n",
              "1379        1379            4.638           4.811            307968.0   \n",
              "1380        1380            5.373           4.929            316675.0   \n",
              "1381        1381            4.072           5.194            318268.0   \n",
              "\n",
              "      Ammonia  Biological Oxygen Demand  Chemical Oxygen Demand  \\\n",
              "0        27.0                     365.0                   730.0   \n",
              "1        25.0                     370.0                   740.0   \n",
              "2        42.0                     418.0                   836.0   \n",
              "3        36.0                     430.0                   850.0   \n",
              "4        46.0                     508.0                  1016.0   \n",
              "...       ...                       ...                     ...   \n",
              "1377     28.0                     310.0                   660.0   \n",
              "1378     40.0                     250.0                   700.0   \n",
              "1379     47.0                     260.0                   860.0   \n",
              "1380     46.0                     300.0                   900.0   \n",
              "1381     31.0                     270.0                   910.0   \n",
              "\n",
              "      Total Nitrogen  Average Temperature  Maximum temperature  \\\n",
              "0             60.378                 19.3                 25.1   \n",
              "1             60.026                 17.1                 23.6   \n",
              "2             64.522                 16.8                 27.2   \n",
              "3             63.000                 14.6                 19.9   \n",
              "4             65.590                 13.4                 19.1   \n",
              "...              ...                  ...                  ...   \n",
              "1377          58.807                  6.8                 10.0   \n",
              "1378          60.671                  7.6                 16.0   \n",
              "1379          64.000                  9.7                 16.0   \n",
              "1380          62.479                 10.9                 17.0   \n",
              "1381          63.312                 12.4                 16.0   \n",
              "\n",
              "      Minimum temperature  Atmospheric pressure  Average humidity  \\\n",
              "0                    12.6                   0.0              56.0   \n",
              "1                    12.3                   0.0              63.0   \n",
              "2                     8.8                   0.0              47.0   \n",
              "3                    11.1                   0.0              49.0   \n",
              "4                     8.0                   0.0              65.0   \n",
              "...                   ...                   ...               ...   \n",
              "1377                  4.0                   0.0              56.0   \n",
              "1378                  3.0                   0.0              71.0   \n",
              "1379                  3.0                   0.0              65.0   \n",
              "1380                  5.0                   0.0              65.0   \n",
              "1381                 10.0                   0.0              63.0   \n",
              "\n",
              "      Total rainfall  Average visibility  Average wind speed  \\\n",
              "0               1.52                10.0                26.9   \n",
              "1               0.00                10.0                14.4   \n",
              "2               0.25                10.0                31.9   \n",
              "3               0.00                10.0                27.0   \n",
              "4               0.00                10.0                20.6   \n",
              "...              ...                 ...                 ...   \n",
              "1377            0.00                10.0                14.4   \n",
              "1378            0.00                 0.0                13.5   \n",
              "1379            0.00                10.0                18.1   \n",
              "1380            0.00                10.0                21.9   \n",
              "1381            0.00                10.0                28.0   \n",
              "\n",
              "      Maximum wind speed    Year  Month   Day  \n",
              "0                   53.5  2014.0    1.0   1.0  \n",
              "1                   27.8  2014.0    1.0   2.0  \n",
              "2                   61.1  2014.0    1.0   5.0  \n",
              "3                   38.9  2014.0    1.0   6.0  \n",
              "4                   35.2  2014.0    1.0   7.0  \n",
              "...                  ...     ...    ...   ...  \n",
              "1377                22.2  2019.0    6.0  20.0  \n",
              "1378                25.9  2019.0    6.0  24.0  \n",
              "1379                25.9  2019.0    6.0  25.0  \n",
              "1380                35.2  2019.0    6.0  26.0  \n",
              "1381                44.6  2019.0    6.0  27.0  \n",
              "\n",
              "[1382 rows x 20 columns]>"
            ]
          },
          "execution_count": 14,
          "metadata": {},
          "output_type": "execute_result"
        }
      ],
      "source": [
        "df.describe"
      ]
    },
    {
      "cell_type": "markdown",
      "metadata": {},
      "source": [
        "Check for any missing data."
      ]
    },
    {
      "cell_type": "code",
      "execution_count": null,
      "metadata": {},
      "outputs": [
        {
          "data": {
            "text/plain": [
              "Unnamed: 0                  0\n",
              "Average Outflow             0\n",
              "Average Inflow              0\n",
              "Energy Consumption          0\n",
              "Ammonia                     0\n",
              "Biological Oxygen Demand    0\n",
              "Chemical Oxygen Demand      0\n",
              "Total Nitrogen              0\n",
              "Average Temperature         0\n",
              "Maximum temperature         0\n",
              "Minimum temperature         0\n",
              "Atmospheric pressure        0\n",
              "Average humidity            0\n",
              "Total rainfall              0\n",
              "Average visibility          0\n",
              "Average wind speed          0\n",
              "Maximum wind speed          0\n",
              "Year                        0\n",
              "Month                       0\n",
              "Day                         0\n",
              "dtype: int64"
            ]
          },
          "execution_count": 15,
          "metadata": {},
          "output_type": "execute_result"
        }
      ],
      "source": [
        "df.isnull().sum()"
      ]
    },
    {
      "cell_type": "markdown",
      "metadata": {},
      "source": [
        "Check the data types."
      ]
    },
    {
      "cell_type": "code",
      "execution_count": null,
      "metadata": {},
      "outputs": [
        {
          "data": {
            "text/plain": [
              "Unnamed: 0                    int64\n",
              "Average Outflow             float64\n",
              "Average Inflow              float64\n",
              "Energy Consumption          float64\n",
              "Ammonia                     float64\n",
              "Biological Oxygen Demand    float64\n",
              "Chemical Oxygen Demand      float64\n",
              "Total Nitrogen              float64\n",
              "Average Temperature         float64\n",
              "Maximum temperature         float64\n",
              "Minimum temperature         float64\n",
              "Atmospheric pressure        float64\n",
              "Average humidity            float64\n",
              "Total rainfall              float64\n",
              "Average visibility          float64\n",
              "Average wind speed          float64\n",
              "Maximum wind speed          float64\n",
              "Year                        float64\n",
              "Month                       float64\n",
              "Day                         float64\n",
              "dtype: object"
            ]
          },
          "execution_count": 16,
          "metadata": {},
          "output_type": "execute_result"
        }
      ],
      "source": [
        "df.dtypes"
      ]
    },
    {
      "cell_type": "markdown",
      "metadata": {},
      "source": [
        "After inspecting the data, I want to drop the index column as this is not needed. \n",
        "I also want to convert the date parts to datetime and drop the year, month and day columns."
      ]
    },
    {
      "cell_type": "code",
      "execution_count": null,
      "metadata": {},
      "outputs": [],
      "source": [
        "df = df.drop(columns=['Unnamed: 0'])"
      ]
    },
    {
      "cell_type": "code",
      "execution_count": null,
      "metadata": {},
      "outputs": [],
      "source": [
        "df['date'] = pd.to_datetime(df[['Year', 'Month', 'Day']])"
      ]
    },
    {
      "cell_type": "code",
      "execution_count": null,
      "metadata": {},
      "outputs": [
        {
          "name": "stdout",
          "output_type": "stream",
          "text": [
            "<class 'pandas.core.frame.DataFrame'>\n",
            "RangeIndex: 1382 entries, 0 to 1381\n",
            "Data columns (total 20 columns):\n",
            " #   Column                    Non-Null Count  Dtype         \n",
            "---  ------                    --------------  -----         \n",
            " 0   Average Outflow           1382 non-null   float64       \n",
            " 1   Average Inflow            1382 non-null   float64       \n",
            " 2   Energy Consumption        1382 non-null   float64       \n",
            " 3   Ammonia                   1382 non-null   float64       \n",
            " 4   Biological Oxygen Demand  1382 non-null   float64       \n",
            " 5   Chemical Oxygen Demand    1382 non-null   float64       \n",
            " 6   Total Nitrogen            1382 non-null   float64       \n",
            " 7   Average Temperature       1382 non-null   float64       \n",
            " 8   Maximum temperature       1382 non-null   float64       \n",
            " 9   Minimum temperature       1382 non-null   float64       \n",
            " 10  Atmospheric pressure      1382 non-null   float64       \n",
            " 11  Average humidity          1382 non-null   float64       \n",
            " 12  Total rainfall            1382 non-null   float64       \n",
            " 13  Average visibility        1382 non-null   float64       \n",
            " 14  Average wind speed        1382 non-null   float64       \n",
            " 15  Maximum wind speed        1382 non-null   float64       \n",
            " 16  Year                      1382 non-null   float64       \n",
            " 17  Month                     1382 non-null   float64       \n",
            " 18  Day                       1382 non-null   float64       \n",
            " 19  date                      1382 non-null   datetime64[ns]\n",
            "dtypes: datetime64[ns](1), float64(19)\n",
            "memory usage: 216.1 KB\n"
          ]
        }
      ],
      "source": [
        "df.info()"
      ]
    },
    {
      "cell_type": "code",
      "execution_count": null,
      "metadata": {},
      "outputs": [
        {
          "data": {
            "text/html": [
              "<div>\n",
              "<style scoped>\n",
              "    .dataframe tbody tr th:only-of-type {\n",
              "        vertical-align: middle;\n",
              "    }\n",
              "\n",
              "    .dataframe tbody tr th {\n",
              "        vertical-align: top;\n",
              "    }\n",
              "\n",
              "    .dataframe thead th {\n",
              "        text-align: right;\n",
              "    }\n",
              "</style>\n",
              "<table border=\"1\" class=\"dataframe\">\n",
              "  <thead>\n",
              "    <tr style=\"text-align: right;\">\n",
              "      <th></th>\n",
              "      <th>Average Outflow</th>\n",
              "      <th>Average Inflow</th>\n",
              "      <th>Energy Consumption</th>\n",
              "      <th>Ammonia</th>\n",
              "      <th>Biological Oxygen Demand</th>\n",
              "      <th>Chemical Oxygen Demand</th>\n",
              "      <th>Total Nitrogen</th>\n",
              "      <th>Average Temperature</th>\n",
              "      <th>Maximum temperature</th>\n",
              "      <th>Minimum temperature</th>\n",
              "      <th>Atmospheric pressure</th>\n",
              "      <th>Average humidity</th>\n",
              "      <th>Total rainfall</th>\n",
              "      <th>Average visibility</th>\n",
              "      <th>Average wind speed</th>\n",
              "      <th>Maximum wind speed</th>\n",
              "      <th>Year</th>\n",
              "      <th>Month</th>\n",
              "      <th>Day</th>\n",
              "      <th>date</th>\n",
              "    </tr>\n",
              "  </thead>\n",
              "  <tbody>\n",
              "    <tr>\n",
              "      <th>0</th>\n",
              "      <td>2.941</td>\n",
              "      <td>2.589</td>\n",
              "      <td>175856.0</td>\n",
              "      <td>27.0</td>\n",
              "      <td>365.0</td>\n",
              "      <td>730.0</td>\n",
              "      <td>60.378</td>\n",
              "      <td>19.3</td>\n",
              "      <td>25.1</td>\n",
              "      <td>12.6</td>\n",
              "      <td>0.0</td>\n",
              "      <td>56.0</td>\n",
              "      <td>1.52</td>\n",
              "      <td>10.0</td>\n",
              "      <td>26.9</td>\n",
              "      <td>53.5</td>\n",
              "      <td>2014.0</td>\n",
              "      <td>1.0</td>\n",
              "      <td>1.0</td>\n",
              "      <td>2014-01-01</td>\n",
              "    </tr>\n",
              "    <tr>\n",
              "      <th>1</th>\n",
              "      <td>2.936</td>\n",
              "      <td>2.961</td>\n",
              "      <td>181624.0</td>\n",
              "      <td>25.0</td>\n",
              "      <td>370.0</td>\n",
              "      <td>740.0</td>\n",
              "      <td>60.026</td>\n",
              "      <td>17.1</td>\n",
              "      <td>23.6</td>\n",
              "      <td>12.3</td>\n",
              "      <td>0.0</td>\n",
              "      <td>63.0</td>\n",
              "      <td>0.00</td>\n",
              "      <td>10.0</td>\n",
              "      <td>14.4</td>\n",
              "      <td>27.8</td>\n",
              "      <td>2014.0</td>\n",
              "      <td>1.0</td>\n",
              "      <td>2.0</td>\n",
              "      <td>2014-01-02</td>\n",
              "    </tr>\n",
              "    <tr>\n",
              "      <th>2</th>\n",
              "      <td>2.928</td>\n",
              "      <td>3.225</td>\n",
              "      <td>202016.0</td>\n",
              "      <td>42.0</td>\n",
              "      <td>418.0</td>\n",
              "      <td>836.0</td>\n",
              "      <td>64.522</td>\n",
              "      <td>16.8</td>\n",
              "      <td>27.2</td>\n",
              "      <td>8.8</td>\n",
              "      <td>0.0</td>\n",
              "      <td>47.0</td>\n",
              "      <td>0.25</td>\n",
              "      <td>10.0</td>\n",
              "      <td>31.9</td>\n",
              "      <td>61.1</td>\n",
              "      <td>2014.0</td>\n",
              "      <td>1.0</td>\n",
              "      <td>5.0</td>\n",
              "      <td>2014-01-05</td>\n",
              "    </tr>\n",
              "    <tr>\n",
              "      <th>3</th>\n",
              "      <td>2.928</td>\n",
              "      <td>3.354</td>\n",
              "      <td>207547.0</td>\n",
              "      <td>36.0</td>\n",
              "      <td>430.0</td>\n",
              "      <td>850.0</td>\n",
              "      <td>63.000</td>\n",
              "      <td>14.6</td>\n",
              "      <td>19.9</td>\n",
              "      <td>11.1</td>\n",
              "      <td>0.0</td>\n",
              "      <td>49.0</td>\n",
              "      <td>0.00</td>\n",
              "      <td>10.0</td>\n",
              "      <td>27.0</td>\n",
              "      <td>38.9</td>\n",
              "      <td>2014.0</td>\n",
              "      <td>1.0</td>\n",
              "      <td>6.0</td>\n",
              "      <td>2014-01-06</td>\n",
              "    </tr>\n",
              "    <tr>\n",
              "      <th>4</th>\n",
              "      <td>2.917</td>\n",
              "      <td>3.794</td>\n",
              "      <td>202824.0</td>\n",
              "      <td>46.0</td>\n",
              "      <td>508.0</td>\n",
              "      <td>1016.0</td>\n",
              "      <td>65.590</td>\n",
              "      <td>13.4</td>\n",
              "      <td>19.1</td>\n",
              "      <td>8.0</td>\n",
              "      <td>0.0</td>\n",
              "      <td>65.0</td>\n",
              "      <td>0.00</td>\n",
              "      <td>10.0</td>\n",
              "      <td>20.6</td>\n",
              "      <td>35.2</td>\n",
              "      <td>2014.0</td>\n",
              "      <td>1.0</td>\n",
              "      <td>7.0</td>\n",
              "      <td>2014-01-07</td>\n",
              "    </tr>\n",
              "  </tbody>\n",
              "</table>\n",
              "</div>"
            ],
            "text/plain": [
              "   Average Outflow  Average Inflow  Energy Consumption  Ammonia  \\\n",
              "0            2.941           2.589            175856.0     27.0   \n",
              "1            2.936           2.961            181624.0     25.0   \n",
              "2            2.928           3.225            202016.0     42.0   \n",
              "3            2.928           3.354            207547.0     36.0   \n",
              "4            2.917           3.794            202824.0     46.0   \n",
              "\n",
              "   Biological Oxygen Demand  Chemical Oxygen Demand  Total Nitrogen  \\\n",
              "0                     365.0                   730.0          60.378   \n",
              "1                     370.0                   740.0          60.026   \n",
              "2                     418.0                   836.0          64.522   \n",
              "3                     430.0                   850.0          63.000   \n",
              "4                     508.0                  1016.0          65.590   \n",
              "\n",
              "   Average Temperature  Maximum temperature  Minimum temperature  \\\n",
              "0                 19.3                 25.1                 12.6   \n",
              "1                 17.1                 23.6                 12.3   \n",
              "2                 16.8                 27.2                  8.8   \n",
              "3                 14.6                 19.9                 11.1   \n",
              "4                 13.4                 19.1                  8.0   \n",
              "\n",
              "   Atmospheric pressure  Average humidity  Total rainfall  Average visibility  \\\n",
              "0                   0.0              56.0            1.52                10.0   \n",
              "1                   0.0              63.0            0.00                10.0   \n",
              "2                   0.0              47.0            0.25                10.0   \n",
              "3                   0.0              49.0            0.00                10.0   \n",
              "4                   0.0              65.0            0.00                10.0   \n",
              "\n",
              "   Average wind speed  Maximum wind speed    Year  Month  Day       date  \n",
              "0                26.9                53.5  2014.0    1.0  1.0 2014-01-01  \n",
              "1                14.4                27.8  2014.0    1.0  2.0 2014-01-02  \n",
              "2                31.9                61.1  2014.0    1.0  5.0 2014-01-05  \n",
              "3                27.0                38.9  2014.0    1.0  6.0 2014-01-06  \n",
              "4                20.6                35.2  2014.0    1.0  7.0 2014-01-07  "
            ]
          },
          "execution_count": 20,
          "metadata": {},
          "output_type": "execute_result"
        }
      ],
      "source": [
        "df.head()"
      ]
    },
    {
      "cell_type": "code",
      "execution_count": null,
      "metadata": {},
      "outputs": [],
      "source": [
        "df = df.drop(columns=['Year', 'Month', 'Day'])\n"
      ]
    },
    {
      "cell_type": "code",
      "execution_count": null,
      "metadata": {},
      "outputs": [
        {
          "data": {
            "text/html": [
              "<div>\n",
              "<style scoped>\n",
              "    .dataframe tbody tr th:only-of-type {\n",
              "        vertical-align: middle;\n",
              "    }\n",
              "\n",
              "    .dataframe tbody tr th {\n",
              "        vertical-align: top;\n",
              "    }\n",
              "\n",
              "    .dataframe thead th {\n",
              "        text-align: right;\n",
              "    }\n",
              "</style>\n",
              "<table border=\"1\" class=\"dataframe\">\n",
              "  <thead>\n",
              "    <tr style=\"text-align: right;\">\n",
              "      <th></th>\n",
              "      <th>Average Outflow</th>\n",
              "      <th>Average Inflow</th>\n",
              "      <th>Energy Consumption</th>\n",
              "      <th>Ammonia</th>\n",
              "      <th>Biological Oxygen Demand</th>\n",
              "      <th>Chemical Oxygen Demand</th>\n",
              "      <th>Total Nitrogen</th>\n",
              "      <th>Average Temperature</th>\n",
              "      <th>Maximum temperature</th>\n",
              "      <th>Minimum temperature</th>\n",
              "      <th>Atmospheric pressure</th>\n",
              "      <th>Average humidity</th>\n",
              "      <th>Total rainfall</th>\n",
              "      <th>Average visibility</th>\n",
              "      <th>Average wind speed</th>\n",
              "      <th>Maximum wind speed</th>\n",
              "      <th>date</th>\n",
              "    </tr>\n",
              "  </thead>\n",
              "  <tbody>\n",
              "    <tr>\n",
              "      <th>0</th>\n",
              "      <td>2.941</td>\n",
              "      <td>2.589</td>\n",
              "      <td>175856.0</td>\n",
              "      <td>27.0</td>\n",
              "      <td>365.0</td>\n",
              "      <td>730.0</td>\n",
              "      <td>60.378</td>\n",
              "      <td>19.3</td>\n",
              "      <td>25.1</td>\n",
              "      <td>12.6</td>\n",
              "      <td>0.0</td>\n",
              "      <td>56.0</td>\n",
              "      <td>1.52</td>\n",
              "      <td>10.0</td>\n",
              "      <td>26.9</td>\n",
              "      <td>53.5</td>\n",
              "      <td>2014-01-01</td>\n",
              "    </tr>\n",
              "    <tr>\n",
              "      <th>1</th>\n",
              "      <td>2.936</td>\n",
              "      <td>2.961</td>\n",
              "      <td>181624.0</td>\n",
              "      <td>25.0</td>\n",
              "      <td>370.0</td>\n",
              "      <td>740.0</td>\n",
              "      <td>60.026</td>\n",
              "      <td>17.1</td>\n",
              "      <td>23.6</td>\n",
              "      <td>12.3</td>\n",
              "      <td>0.0</td>\n",
              "      <td>63.0</td>\n",
              "      <td>0.00</td>\n",
              "      <td>10.0</td>\n",
              "      <td>14.4</td>\n",
              "      <td>27.8</td>\n",
              "      <td>2014-01-02</td>\n",
              "    </tr>\n",
              "    <tr>\n",
              "      <th>2</th>\n",
              "      <td>2.928</td>\n",
              "      <td>3.225</td>\n",
              "      <td>202016.0</td>\n",
              "      <td>42.0</td>\n",
              "      <td>418.0</td>\n",
              "      <td>836.0</td>\n",
              "      <td>64.522</td>\n",
              "      <td>16.8</td>\n",
              "      <td>27.2</td>\n",
              "      <td>8.8</td>\n",
              "      <td>0.0</td>\n",
              "      <td>47.0</td>\n",
              "      <td>0.25</td>\n",
              "      <td>10.0</td>\n",
              "      <td>31.9</td>\n",
              "      <td>61.1</td>\n",
              "      <td>2014-01-05</td>\n",
              "    </tr>\n",
              "    <tr>\n",
              "      <th>3</th>\n",
              "      <td>2.928</td>\n",
              "      <td>3.354</td>\n",
              "      <td>207547.0</td>\n",
              "      <td>36.0</td>\n",
              "      <td>430.0</td>\n",
              "      <td>850.0</td>\n",
              "      <td>63.000</td>\n",
              "      <td>14.6</td>\n",
              "      <td>19.9</td>\n",
              "      <td>11.1</td>\n",
              "      <td>0.0</td>\n",
              "      <td>49.0</td>\n",
              "      <td>0.00</td>\n",
              "      <td>10.0</td>\n",
              "      <td>27.0</td>\n",
              "      <td>38.9</td>\n",
              "      <td>2014-01-06</td>\n",
              "    </tr>\n",
              "    <tr>\n",
              "      <th>4</th>\n",
              "      <td>2.917</td>\n",
              "      <td>3.794</td>\n",
              "      <td>202824.0</td>\n",
              "      <td>46.0</td>\n",
              "      <td>508.0</td>\n",
              "      <td>1016.0</td>\n",
              "      <td>65.590</td>\n",
              "      <td>13.4</td>\n",
              "      <td>19.1</td>\n",
              "      <td>8.0</td>\n",
              "      <td>0.0</td>\n",
              "      <td>65.0</td>\n",
              "      <td>0.00</td>\n",
              "      <td>10.0</td>\n",
              "      <td>20.6</td>\n",
              "      <td>35.2</td>\n",
              "      <td>2014-01-07</td>\n",
              "    </tr>\n",
              "  </tbody>\n",
              "</table>\n",
              "</div>"
            ],
            "text/plain": [
              "   Average Outflow  Average Inflow  Energy Consumption  Ammonia  \\\n",
              "0            2.941           2.589            175856.0     27.0   \n",
              "1            2.936           2.961            181624.0     25.0   \n",
              "2            2.928           3.225            202016.0     42.0   \n",
              "3            2.928           3.354            207547.0     36.0   \n",
              "4            2.917           3.794            202824.0     46.0   \n",
              "\n",
              "   Biological Oxygen Demand  Chemical Oxygen Demand  Total Nitrogen  \\\n",
              "0                     365.0                   730.0          60.378   \n",
              "1                     370.0                   740.0          60.026   \n",
              "2                     418.0                   836.0          64.522   \n",
              "3                     430.0                   850.0          63.000   \n",
              "4                     508.0                  1016.0          65.590   \n",
              "\n",
              "   Average Temperature  Maximum temperature  Minimum temperature  \\\n",
              "0                 19.3                 25.1                 12.6   \n",
              "1                 17.1                 23.6                 12.3   \n",
              "2                 16.8                 27.2                  8.8   \n",
              "3                 14.6                 19.9                 11.1   \n",
              "4                 13.4                 19.1                  8.0   \n",
              "\n",
              "   Atmospheric pressure  Average humidity  Total rainfall  Average visibility  \\\n",
              "0                   0.0              56.0            1.52                10.0   \n",
              "1                   0.0              63.0            0.00                10.0   \n",
              "2                   0.0              47.0            0.25                10.0   \n",
              "3                   0.0              49.0            0.00                10.0   \n",
              "4                   0.0              65.0            0.00                10.0   \n",
              "\n",
              "   Average wind speed  Maximum wind speed       date  \n",
              "0                26.9                53.5 2014-01-01  \n",
              "1                14.4                27.8 2014-01-02  \n",
              "2                31.9                61.1 2014-01-05  \n",
              "3                27.0                38.9 2014-01-06  \n",
              "4                20.6                35.2 2014-01-07  "
            ]
          },
          "execution_count": 22,
          "metadata": {},
          "output_type": "execute_result"
        }
      ],
      "source": [
        "df.head()"
      ]
    },
    {
      "cell_type": "markdown",
      "metadata": {
        "id": "ZY3l0-AxO93d"
      },
      "source": [
        "---"
      ]
    },
    {
      "cell_type": "markdown",
      "metadata": {
        "id": "ltNetd085qHf"
      },
      "source": [
        "# Push files to Repo"
      ]
    },
    {
      "cell_type": "markdown",
      "metadata": {},
      "source": [
        "Now the file is ready to push to the repo"
      ]
    },
    {
      "cell_type": "code",
      "execution_count": null,
      "metadata": {
        "id": "aKlnIozA4eQO",
        "outputId": "fd09bc1f-adb1-4511-f6ce-492a6af570c0"
      },
      "outputs": [
        {
          "name": "stdout",
          "output_type": "stream",
          "text": [
            "[Errno 17] File exists: 'outputs/datasets/collection'\n"
          ]
        }
      ],
      "source": [
        "import os\n",
        "try:\n",
        "  # create here your folder\n",
        "  os.makedirs(name='outputs/datasets/collection')\n",
        "except Exception as e:\n",
        "  print(e)\n",
        "df.to_csv('outputs/datasets/collection/Data-Melbourne_F_fixed.csv', index=False)"
      ]
    },
    {
      "cell_type": "markdown",
      "metadata": {},
      "source": [
        "### Summary\n",
        "\n",
        "This notebook handled both the data collection and initial cleaning required to prepare the dataset for analysis and modeling.\n"
      ]
    }
  ],
  "metadata": {
    "accelerator": "GPU",
    "colab": {
      "name": "Data Practitioner Jupyter Notebook.ipynb",
      "provenance": [],
      "toc_visible": true
    },
    "kernelspec": {
      "display_name": "3.12.1",
      "language": "python",
      "name": "python3"
    },
    "language_info": {
      "codemirror_mode": {
        "name": "ipython",
        "version": 3
      },
      "file_extension": ".py",
      "mimetype": "text/x-python",
      "name": "python",
      "nbconvert_exporter": "python",
      "pygments_lexer": "ipython3",
      "version": "3.12.1"
    },
    "orig_nbformat": 2
  },
  "nbformat": 4,
  "nbformat_minor": 2
}
