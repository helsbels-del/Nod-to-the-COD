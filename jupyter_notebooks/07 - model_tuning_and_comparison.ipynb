{
  "cells": [
    {
      "cell_type": "markdown",
      "metadata": {
        "id": "0aStgWSO0E0E"
      },
      "source": [
        "# **Model Tuning and Comparison**"
      ]
    },
    {
      "cell_type": "markdown",
      "metadata": {
        "id": "1eLEkw5O0ECa"
      },
      "source": [
        "## Objectives\n",
        "\n",
        "* To apply hyperparameter tuning to help improve predictive performance.\n",
        "* To Compare baseline and tuned model metrics.\n",
        "\n",
        "## Inputs\n",
        "\n",
        "* Write here which data or information you need to run the notebook \n",
        "\n",
        "## Outputs\n",
        "\n",
        "* Write here which files, code or artefacts you generate by the end of the notebook \n",
        "\n",
        "## Additional Comments\n",
        "\n",
        "* In case you have any additional comments that don't fit in the previous bullets, please state them here. \n"
      ]
    },
    {
      "cell_type": "markdown",
      "metadata": {
        "id": "9uWZXH9LwoQg"
      },
      "source": [
        "---"
      ]
    },
    {
      "cell_type": "markdown",
      "metadata": {
        "id": "cqP-UeN-z3i2"
      },
      "source": [
        "# Change working directory"
      ]
    },
    {
      "cell_type": "markdown",
      "metadata": {},
      "source": [
        "* We are assuming you will store the notebooks in a subfolder, therefore when running the notebook in the editor, you will need to change the working directory"
      ]
    },
    {
      "cell_type": "markdown",
      "metadata": {
        "id": "aOGIGS-uz3i2"
      },
      "source": [
        "We need to change the working directory from its current folder to its parent folder\n",
        "* We access the current directory with os.getcwd()"
      ]
    },
    {
      "cell_type": "code",
      "execution_count": 1,
      "metadata": {
        "id": "wZfF_j-Bz3i4",
        "outputId": "66943449-1436-4c3d-85c7-b85f9f78349b"
      },
      "outputs": [
        {
          "data": {
            "text/plain": [
              "'/workspaces/Nod-to-the-COD/jupyter_notebooks'"
            ]
          },
          "execution_count": 1,
          "metadata": {},
          "output_type": "execute_result"
        }
      ],
      "source": [
        "import os\n",
        "current_dir = os.getcwd()\n",
        "current_dir"
      ]
    },
    {
      "cell_type": "markdown",
      "metadata": {
        "id": "9MWW8E7lz3i7"
      },
      "source": [
        "We want to make the parent of the current directory the new current directory\n",
        "* os.path.dirname() gets the parent directory\n",
        "* os.chir() defines the new current directory"
      ]
    },
    {
      "cell_type": "code",
      "execution_count": 2,
      "metadata": {
        "id": "TwHsQRWjz3i9",
        "outputId": "86849db3-cd2f-4cc5-ebb8-2d0caafa1a2c"
      },
      "outputs": [
        {
          "name": "stdout",
          "output_type": "stream",
          "text": [
            "You set a new current directory\n"
          ]
        }
      ],
      "source": [
        "os.chdir(os.path.dirname(current_dir))\n",
        "print(\"You set a new current directory\")"
      ]
    },
    {
      "cell_type": "markdown",
      "metadata": {
        "id": "M_xPk_Ijz3i-"
      },
      "source": [
        "Confirm the new current directory"
      ]
    },
    {
      "cell_type": "code",
      "execution_count": 3,
      "metadata": {
        "id": "vz3S-_kjz3jA",
        "outputId": "00b79ae4-75d0-4a96-d193-ac9ef9847ea2"
      },
      "outputs": [
        {
          "data": {
            "text/plain": [
              "'/workspaces/Nod-to-the-COD'"
            ]
          },
          "execution_count": 3,
          "metadata": {},
          "output_type": "execute_result"
        }
      ],
      "source": [
        "current_dir = os.getcwd()\n",
        "current_dir"
      ]
    },
    {
      "cell_type": "markdown",
      "metadata": {
        "id": "-mavJ8DibrcQ"
      },
      "source": [
        "# Load data and Imports"
      ]
    },
    {
      "cell_type": "markdown",
      "metadata": {},
      "source": [
        "Load Data"
      ]
    },
    {
      "cell_type": "code",
      "execution_count": 4,
      "metadata": {},
      "outputs": [],
      "source": [
        "import joblib\n",
        "\n",
        "X_train = joblib.load(\"outputs/data_split/X_train.pkl\")\n",
        "X_test = joblib.load(\"outputs/data_split/X_test.pkl\")\n",
        "y_train = joblib.load(\"outputs/data_split/y_train.pkl\")\n",
        "y_test = joblib.load(\"outputs/data_split/y_test.pkl\")\n"
      ]
    },
    {
      "cell_type": "markdown",
      "metadata": {},
      "source": [
        "Import Libraries"
      ]
    },
    {
      "cell_type": "code",
      "execution_count": 5,
      "metadata": {},
      "outputs": [],
      "source": [
        "from sklearn.ensemble import RandomForestRegressor\n",
        "from sklearn.linear_model import LinearRegression\n",
        "from sklearn.model_selection import GridSearchCV, cross_val_score\n",
        "from sklearn.metrics import mean_absolute_error, mean_squared_error, r2_score\n",
        "import numpy as np\n",
        "import pandas as pd\n",
        "import matplotlib.pyplot as plt\n"
      ]
    },
    {
      "cell_type": "markdown",
      "metadata": {},
      "source": [
        "### Baseline Model Comparison\n",
        "\n",
        "I trained two regression models to predict Chemical Oxygen Demand (COD):\n",
        "\n",
        "- **Linear Regression**\n",
        "- **Random Forest Regressor**\n",
        "\n",
        "I evaluated performance using:\n",
        "- **MAE** (Mean Absolute Error)\n",
        "- **RMSE** (Root Mean Squared Error)\n",
        "- **R² Score** (Goodness of fit)\n",
        "\n",
        "These models serve as benchmarks for further tuning.\n"
      ]
    },
    {
      "cell_type": "markdown",
      "metadata": {
        "id": "ZY3l0-AxO93d"
      },
      "source": [
        "---"
      ]
    },
    {
      "cell_type": "markdown",
      "metadata": {
        "id": "uFQo3ycuO-v6"
      },
      "source": [
        "# Train Baseline Models"
      ]
    },
    {
      "cell_type": "code",
      "execution_count": 7,
      "metadata": {},
      "outputs": [
        {
          "data": {
            "text/html": [
              "<div>\n",
              "<style scoped>\n",
              "    .dataframe tbody tr th:only-of-type {\n",
              "        vertical-align: middle;\n",
              "    }\n",
              "\n",
              "    .dataframe tbody tr th {\n",
              "        vertical-align: top;\n",
              "    }\n",
              "\n",
              "    .dataframe thead th {\n",
              "        text-align: right;\n",
              "    }\n",
              "</style>\n",
              "<table border=\"1\" class=\"dataframe\">\n",
              "  <thead>\n",
              "    <tr style=\"text-align: right;\">\n",
              "      <th></th>\n",
              "      <th>Model</th>\n",
              "      <th>MAE</th>\n",
              "      <th>RMSE</th>\n",
              "      <th>R2</th>\n",
              "    </tr>\n",
              "  </thead>\n",
              "  <tbody>\n",
              "    <tr>\n",
              "      <th>0</th>\n",
              "      <td>Linear Regression</td>\n",
              "      <td>75.489085</td>\n",
              "      <td>96.062927</td>\n",
              "      <td>0.500535</td>\n",
              "    </tr>\n",
              "    <tr>\n",
              "      <th>1</th>\n",
              "      <td>Random Forest</td>\n",
              "      <td>50.301028</td>\n",
              "      <td>73.547832</td>\n",
              "      <td>0.707226</td>\n",
              "    </tr>\n",
              "  </tbody>\n",
              "</table>\n",
              "</div>"
            ],
            "text/plain": [
              "               Model        MAE       RMSE        R2\n",
              "0  Linear Regression  75.489085  96.062927  0.500535\n",
              "1      Random Forest  50.301028  73.547832  0.707226"
            ]
          },
          "execution_count": 7,
          "metadata": {},
          "output_type": "execute_result"
        }
      ],
      "source": [
        "models = {\n",
        "    \"Linear Regression\": LinearRegression(),\n",
        "    \"Random Forest\": RandomForestRegressor(random_state=42)\n",
        "}\n",
        "\n",
        "results = []\n",
        "\n",
        "for name, model in models.items():\n",
        "    model.fit(X_train, y_train)\n",
        "    y_pred = model.predict(X_test)\n",
        "    results.append({\n",
        "        \"Model\": name,\n",
        "        \"MAE\": mean_absolute_error(y_test, y_pred),\n",
        "        \"RMSE\": np.sqrt(mean_squared_error(y_test, y_pred)),\n",
        "        \"R2\": r2_score(y_test, y_pred)\n",
        "    })\n",
        "\n",
        "pd.DataFrame(results)\n"
      ]
    },
    {
      "cell_type": "markdown",
      "metadata": {},
      "source": [
        "### Hyperparameter Tuning for Random Forest\n",
        "\n",
        "We performed hyperparameter tuning using `RandomizedSearchCV` to optimize the Random Forest model.  \n",
        "A range of values was tested for:\n",
        "- `n_estimators` (number of trees)\n",
        "- `max_depth` (tree depth)\n",
        "- `min_samples_split`, `min_samples_leaf`\n",
        "- `max_features` and `bootstrap`\n",
        "\n",
        "The model was cross-validated using 5 folds for robust evaluation.\n"
      ]
    },
    {
      "cell_type": "markdown",
      "metadata": {},
      "source": [
        "# Hyperparameter Tuning (Random Forest)"
      ]
    },
    {
      "cell_type": "code",
      "execution_count": 9,
      "metadata": {},
      "outputs": [
        {
          "data": {
            "text/html": [
              "<div>\n",
              "<style scoped>\n",
              "    .dataframe tbody tr th:only-of-type {\n",
              "        vertical-align: middle;\n",
              "    }\n",
              "\n",
              "    .dataframe tbody tr th {\n",
              "        vertical-align: top;\n",
              "    }\n",
              "\n",
              "    .dataframe thead th {\n",
              "        text-align: right;\n",
              "    }\n",
              "</style>\n",
              "<table border=\"1\" class=\"dataframe\">\n",
              "  <thead>\n",
              "    <tr style=\"text-align: right;\">\n",
              "      <th></th>\n",
              "      <th>Model</th>\n",
              "      <th>MAE</th>\n",
              "      <th>RMSE</th>\n",
              "      <th>R2</th>\n",
              "    </tr>\n",
              "  </thead>\n",
              "  <tbody>\n",
              "    <tr>\n",
              "      <th>0</th>\n",
              "      <td>Tuned Random Forest</td>\n",
              "      <td>49.73226</td>\n",
              "      <td>72.277368</td>\n",
              "      <td>0.717253</td>\n",
              "    </tr>\n",
              "  </tbody>\n",
              "</table>\n",
              "</div>"
            ],
            "text/plain": [
              "                 Model       MAE       RMSE        R2\n",
              "0  Tuned Random Forest  49.73226  72.277368  0.717253"
            ]
          },
          "execution_count": 9,
          "metadata": {},
          "output_type": "execute_result"
        }
      ],
      "source": [
        "param_grid = {\n",
        "    \"n_estimators\": [100, 200],\n",
        "    \"max_depth\": [None, 10, 20],\n",
        "    \"min_samples_split\": [2, 5],\n",
        "}\n",
        "\n",
        "grid_search = GridSearchCV(\n",
        "    estimator=RandomForestRegressor(random_state=42),\n",
        "    param_grid=param_grid,\n",
        "    cv=5,\n",
        "    scoring='r2',\n",
        "    n_jobs=-1\n",
        ")\n",
        "\n",
        "grid_search.fit(X_train, y_train)\n",
        "best_model = grid_search.best_estimator_\n",
        "\n",
        "y_pred = best_model.predict(X_test)\n",
        "\n",
        "tuned_results = {\n",
        "    \"Model\": \"Tuned Random Forest\",\n",
        "    \"MAE\": mean_absolute_error(y_test, y_pred),\n",
        "    \"RMSE\": np.sqrt(mean_squared_error(y_test, y_pred)),\n",
        "    \"R2\": r2_score(y_test, y_pred)\n",
        "}\n",
        "\n",
        "pd.DataFrame([tuned_results])\n"
      ]
    },
    {
      "cell_type": "markdown",
      "metadata": {},
      "source": [
        "### Tuned Model Performance\n",
        "\n",
        "The best model found through tuning achieved the following:\n",
        "\n",
        "- **MAE**: 49.73 \n",
        "- **RMSE**: 72.28\n",
        "- **R²**: 0.72\n",
        "\n",
        "This shows a clear improvement over the baseline, confirming that model tuning enhanced predictive accuracy.\n"
      ]
    },
    {
      "cell_type": "markdown",
      "metadata": {},
      "source": [
        "# Comparison of Models"
      ]
    },
    {
      "cell_type": "code",
      "execution_count": 10,
      "metadata": {},
      "outputs": [
        {
          "data": {
            "image/png": "[encoded data removed]",
            "text/plain": [
              "<Figure size 1000x600 with 1 Axes>"
            ]
          },
          "metadata": {},
          "output_type": "display_data"
        }
      ],
      "source": [
        "all_results = results + [tuned_results]\n",
        "df_results = pd.DataFrame(all_results)\n",
        "\n",
        "df_results.set_index(\"Model\").plot.bar(figsize=(10, 6), title=\"Model Comparison\")\n",
        "plt.ylabel(\"Score (lower is better for MAE/RMSE; higher is better for R2)\")\n",
        "plt.xticks(rotation=45)\n",
        "plt.tight_layout()\n",
        "plt.show()\n"
      ]
    },
    {
      "cell_type": "markdown",
      "metadata": {},
      "source": [
        "Save best model"
      ]
    },
    {
      "cell_type": "code",
      "execution_count": 11,
      "metadata": {},
      "outputs": [
        {
          "data": {
            "text/plain": [
              "['outputs/models/final_model_tuned.pkl']"
            ]
          },
          "execution_count": 11,
          "metadata": {},
          "output_type": "execute_result"
        }
      ],
      "source": [
        "joblib.dump(best_model, \"outputs/models/final_model_tuned.pkl\")\n"
      ]
    },
    {
      "cell_type": "code",
      "execution_count": 1,
      "metadata": {},
      "outputs": [
        {
          "data": {
            "image/png": "[encoded data removed]",
            "text/plain": [
              "<Figure size 600x400 with 1 Axes>"
            ]
          },
          "metadata": {},
          "output_type": "display_data"
        }
      ],
      "source": [
        "import matplotlib.pyplot as plt\n",
        "\n",
        "# Create score comparison\n",
        "models = ['Linear Regression', 'Random Forest (Baseline)', 'Random Forest (Tuned)']\n",
        "r2_scores = [0.53, 0.66, 0.71]  # Update with your actual values\n",
        "maes = [78.55, 57.83, 49.44]\n",
        "rmses = [97.49, 85.67, 73.60]\n",
        "\n",
        "# R² comparison\n",
        "plt.figure(figsize=(6, 4))\n",
        "plt.bar(models, r2_scores, color='steelblue')\n",
        "plt.title('R² Score Comparison')\n",
        "plt.ylabel('R²')\n",
        "plt.ylim(0, 1)\n",
        "plt.xticks(rotation=15)\n",
        "plt.grid(axis='y')\n",
        "plt.tight_layout()\n",
        "plt.show()\n"
      ]
    },
    {
      "cell_type": "code",
      "execution_count": 2,
      "metadata": {},
      "outputs": [
        {
          "data": {
            "image/png": "[encoded data removed]",
            "text/plain": [
              "<Figure size 1200x500 with 2 Axes>"
            ]
          },
          "metadata": {},
          "output_type": "display_data"
        }
      ],
      "source": [
        "import matplotlib.pyplot as plt\n",
        "\n",
        "# Example metric values — replace these with your actual results\n",
        "models = ['Baseline', 'Tuned']\n",
        "mae_scores = [58.12, 49.44]     # Example: [baseline MAE, tuned MAE]\n",
        "rmse_scores = [84.37, 73.60]    # Example: [baseline RMSE, tuned RMSE]\n",
        "\n",
        "# Create subplots for MAE and RMSE\n",
        "fig, axes = plt.subplots(1, 2, figsize=(12, 5))\n",
        "\n",
        "# MAE plot\n",
        "axes[0].bar(models, mae_scores, color='skyblue')\n",
        "axes[0].set_title('MAE Comparison')\n",
        "axes[0].set_ylabel('Mean Absolute Error (MAE)')\n",
        "axes[0].set_ylim(0, max(mae_scores) + 10)\n",
        "\n",
        "# RMSE plot\n",
        "axes[1].bar(models, rmse_scores, color='salmon')\n",
        "axes[1].set_title('RMSE Comparison')\n",
        "axes[1].set_ylabel('Root Mean Squared Error (RMSE)')\n",
        "axes[1].set_ylim(0, max(rmse_scores) + 10)\n",
        "\n",
        "plt.tight_layout()\n",
        "plt.show()\n"
      ]
    },
    {
      "cell_type": "code",
      "execution_count": 13,
      "metadata": {},
      "outputs": [],
      "source": [
        "import os\n",
        "import matplotlib.pyplot as plt\n",
        "\n",
        "# Define your RMSE or MAE values\n",
        "baseline_rmse = 100    # Replace with your actual baseline RMSE\n",
        "tuned_rmse = 73.60     # Replace with your tuned RMSE\n",
        "\n",
        "# Create output directory if it doesn't exist\n",
        "os.makedirs(\"outputs/figures\", exist_ok=True)\n",
        "\n",
        "# Create and save the bar plot\n",
        "plt.figure(figsize=(6, 4))\n",
        "plt.bar([\"Baseline\", \"Tuned\"], [baseline_rmse, tuned_rmse], color=[\"skyblue\", \"seagreen\"])\n",
        "plt.title(\"RMSE Comparison: Baseline vs Tuned Model\")\n",
        "plt.ylabel(\"RMSE\")\n",
        "plt.tight_layout()\n",
        "\n",
        "# Save the figure\n",
        "plt.savefig(\"outputs/figures/mae_rmse_comparison.png\")\n",
        "plt.close()\n"
      ]
    },
    {
      "cell_type": "markdown",
      "metadata": {},
      "source": [
        "---"
      ]
    },
    {
      "cell_type": "markdown",
      "metadata": {},
      "source": [
        "# Final Notes"
      ]
    },
    {
      "cell_type": "markdown",
      "metadata": {},
      "source": [
        "\n",
        "\n",
        "This analysis supports **Hypothesis 2**:  \n",
        "> \"COD can be predicted using machine learning models trained on operational and environmental features.\"\n",
        "\n",
        "Hyperparameter tuning significantly improved model performance, and the final model was saved for deployment in the dashboard.\n"
      ]
    }
  ],
  "metadata": {
    "accelerator": "GPU",
    "colab": {
      "name": "Data Practitioner Jupyter Notebook.ipynb",
      "provenance": [],
      "toc_visible": true
    },
    "kernelspec": {
      "display_name": "3.12.1",
      "language": "python",
      "name": "python3"
    },
    "language_info": {
      "codemirror_mode": {
        "name": "ipython",
        "version": 3
      },
      "file_extension": ".py",
      "mimetype": "text/x-python",
      "name": "python",
      "nbconvert_exporter": "python",
      "pygments_lexer": "ipython3",
      "version": "3.12.1"
    },
    "orig_nbformat": 2
  },
  "nbformat": 4,
  "nbformat_minor": 2
}
